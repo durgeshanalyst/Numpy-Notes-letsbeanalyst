{
 "cells": [
  {
   "cell_type": "code",
   "execution_count": 1,
   "metadata": {},
   "outputs": [],
   "source": [
    "import numpy as np"
   ]
  },
  {
   "cell_type": "code",
   "execution_count": 5,
   "metadata": {},
   "outputs": [],
   "source": [
    "arr = np.random.rand(5,5)"
   ]
  },
  {
   "cell_type": "code",
   "execution_count": 6,
   "metadata": {},
   "outputs": [
    {
     "data": {
      "text/plain": [
       "array([[0.44326789, 0.03003141, 0.56858359, 0.87776941, 0.40667756],\n",
       "       [0.35081407, 0.01857598, 0.99516099, 0.59117593, 0.37609191],\n",
       "       [0.3598531 , 0.65840239, 0.7586281 , 0.76926393, 0.25749249],\n",
       "       [0.92573336, 0.23578112, 0.90971867, 0.52960531, 0.02602025],\n",
       "       [0.03446738, 0.64113343, 0.27563134, 0.95597482, 0.82864239]])"
      ]
     },
     "execution_count": 6,
     "metadata": {},
     "output_type": "execute_result"
    }
   ],
   "source": [
    "arr"
   ]
  },
  {
   "cell_type": "markdown",
   "metadata": {},
   "source": [
    "### element-wise addition, subtraction, multiplication and division"
   ]
  },
  {
   "cell_type": "code",
   "execution_count": 3,
   "metadata": {},
   "outputs": [
    {
     "name": "stdout",
     "output_type": "stream",
     "text": [
      "[[10.4012412  10.61380466 10.61260433 10.1940129  10.46532087]\n",
      " [10.9926062  10.53740136 10.89992634 10.54466946 10.23779389]\n",
      " [10.16513656 10.99139894 10.48980216 10.68900976 10.58877228]\n",
      " [10.91036191 10.54762208 10.14974188 10.81372319 10.69070582]\n",
      " [10.57896142 10.28036075 10.97411929 10.35178075 10.28400558]]\n",
      "[[-9.5987588  -9.38619534 -9.38739567 -9.8059871  -9.53467913]\n",
      " [-9.0073938  -9.46259864 -9.10007366 -9.45533054 -9.76220611]\n",
      " [-9.83486344 -9.00860106 -9.51019784 -9.31099024 -9.41122772]\n",
      " [-9.08963809 -9.45237792 -9.85025812 -9.18627681 -9.30929418]\n",
      " [-9.42103858 -9.71963925 -9.02588071 -9.64821925 -9.71599442]]\n",
      "[[4.012412   6.13804659 6.12604327 1.940129   4.65320866]\n",
      " [9.92606202 5.37401355 8.99926336 5.44669456 2.3779389 ]\n",
      " [1.65136555 9.91398936 4.89802155 6.89009758 5.88772284]\n",
      " [9.10361914 5.47622079 1.49741884 8.13723193 6.90705817]\n",
      " [5.78961423 2.80360748 9.74119287 3.51780754 2.84005578]]\n",
      "[[0.04012412 0.06138047 0.06126043 0.01940129 0.04653209]\n",
      " [0.09926062 0.05374014 0.08999263 0.05446695 0.02377939]\n",
      " [0.01651366 0.09913989 0.04898022 0.06890098 0.05887723]\n",
      " [0.09103619 0.05476221 0.01497419 0.08137232 0.06907058]\n",
      " [0.05789614 0.02803607 0.09741193 0.03517808 0.02840056]]\n"
     ]
    }
   ],
   "source": [
    "print(arr + 10)\n",
    "print(arr - 10)\n",
    "print(arr * 10)\n",
    "print(arr / 10)"
   ]
  },
  {
   "cell_type": "code",
   "execution_count": 8,
   "metadata": {},
   "outputs": [
    {
     "data": {
      "text/plain": [
       "[1, 2, 3, 4, 5, 6, 7, 8]"
      ]
     },
     "execution_count": 8,
     "metadata": {},
     "output_type": "execute_result"
    }
   ],
   "source": [
    "#list can not be add it used to be extend\n",
    "l=[1,2,3,4]\n",
    "l2=[5,6,7,8]\n",
    "l+l2"
   ]
  },
  {
   "cell_type": "code",
   "execution_count": 9,
   "metadata": {},
   "outputs": [
    {
     "name": "stdout",
     "output_type": "stream",
     "text": [
      "[ 9 11 13]\n",
      "[1 2 3]\n",
      "[1 4 9]\n"
     ]
    }
   ],
   "source": [
    "# the above operations can be performed using numpy built-in functions\n",
    "# which can save memory as the output can be stored in the original array rather than assigning new memory\n",
    "arr1 = np.array([1,2,3])\n",
    "np.add(arr1, [8,9,10], out=arr1)\n",
    "print(arr1)\n",
    "\n",
    "np.subtract(arr1, [8,9,10], out=arr1)\n",
    "print(arr1)\n",
    "\n",
    "np.multiply(arr1, [1,2,3], out=arr1)\n",
    "print(arr1)"
   ]
  },
  {
   "cell_type": "markdown",
   "metadata": {},
   "source": [
    "### element-wise exponentiation"
   ]
  },
  {
   "cell_type": "code",
   "execution_count": 10,
   "metadata": {},
   "outputs": [
    {
     "name": "stdout",
     "output_type": "stream",
     "text": [
      "[[1.5577896  1.0304869  1.76576423 2.40552798 1.50181978]\n",
      " [1.42022324 1.01874959 2.70515982 1.80611103 1.45658101]\n",
      " [1.43311887 1.93170376 2.13534472 2.15817711 1.2936821 ]\n",
      " [2.52371838 1.26589721 2.48362371 1.69826189 1.02636174]\n",
      " [1.03506827 1.89863162 1.31736212 2.60120505 2.29020743]]\n"
     ]
    }
   ],
   "source": [
    "print(np.exp(arr))"
   ]
  },
  {
   "cell_type": "markdown",
   "metadata": {},
   "source": [
    "### element-wise logorithm"
   ]
  },
  {
   "cell_type": "code",
   "execution_count": 11,
   "metadata": {},
   "outputs": [
    {
     "name": "stdout",
     "output_type": "stream",
     "text": [
      "[[-0.81358097 -3.50551161 -0.56460694 -0.13037135 -0.89973465]\n",
      " [-1.04749891 -3.98588589 -0.00485075 -0.52564162 -0.97792172]\n",
      " [-1.0220594  -0.417939   -0.27624361 -0.26232115 -1.35676472]\n",
      " [-0.07716903 -1.44485134 -0.09461988 -0.63562325 -3.64888004]\n",
      " [-3.36774186 -0.44451769 -1.28869102 -0.04502371 -0.18796659]]\n"
     ]
    }
   ],
   "source": [
    "# natural log\n",
    "print(np.log(arr))      "
   ]
  },
  {
   "cell_type": "code",
   "execution_count": 12,
   "metadata": {},
   "outputs": [
    {
     "name": "stdout",
     "output_type": "stream",
     "text": [
      "[[-1.17374923 -5.05738421 -0.81455564 -0.1880861  -1.29804271]\n",
      " [-1.51122148 -5.7504178  -0.00699816 -0.75834056 -1.41084281]\n",
      " [-1.47452002 -0.60295852 -0.39853529 -0.37844943 -1.95739774]\n",
      " [-0.11133138 -2.08447987 -0.13650764 -0.91701051 -5.26422114]\n",
      " [-4.85862448 -0.64130347 -1.85918815 -0.06495548 -0.27117846]]\n"
     ]
    }
   ],
   "source": [
    "# base 2\n",
    "print(np.log2(arr))     "
   ]
  },
  {
   "cell_type": "code",
   "execution_count": 13,
   "metadata": {},
   "outputs": [
    {
     "name": "stdout",
     "output_type": "stream",
     "text": [
      "[[-0.35333373 -1.52242435 -0.24520568 -0.05661956 -0.39074979]\n",
      " [-0.454923   -1.73104825 -0.00210666 -0.22828325 -0.42470601]\n",
      " [-0.44387476 -0.1815086  -0.11997108 -0.11392463 -0.58923543]\n",
      " [-0.03351408 -0.62749097 -0.04109289 -0.27604767 -1.58468847]\n",
      " [-1.46259171 -0.19305158 -0.5596714  -0.01955355 -0.08163285]]\n"
     ]
    }
   ],
   "source": [
    "# base 10\n",
    "print(np.log10(arr))    "
   ]
  },
  {
   "cell_type": "markdown",
   "metadata": {},
   "source": [
    "### element-wise square root"
   ]
  },
  {
   "cell_type": "code",
   "execution_count": 14,
   "metadata": {},
   "outputs": [
    {
     "name": "stdout",
     "output_type": "stream",
     "text": [
      "[[0.66578367 0.17329572 0.75404482 0.93689349 0.63771276]\n",
      " [0.59229559 0.13629373 0.99757756 0.76887966 0.61326333]\n",
      " [0.59987757 0.81141998 0.87099259 0.87707693 0.50743718]\n",
      " [0.96215038 0.48557299 0.95379173 0.72773986 0.16130795]\n",
      " [0.18565393 0.80070808 0.52500604 0.97773965 0.91029797]]\n"
     ]
    }
   ],
   "source": [
    "print(np.sqrt(arr))"
   ]
  },
  {
   "cell_type": "markdown",
   "metadata": {},
   "source": [
    "### element-wise sine and cosine"
   ]
  },
  {
   "cell_type": "code",
   "execution_count": 10,
   "metadata": {},
   "outputs": [
    {
     "name": "stdout",
     "output_type": "stream",
     "text": [
      "[[0.69112165 0.06145775 0.5472235  0.73737374 0.34204431]\n",
      " [0.71648615 0.72809076 0.32653281 0.81198751 0.26605362]\n",
      " [0.79148938 0.35498904 0.46033726 0.11054088 0.14075325]\n",
      " [0.40374097 0.08519025 0.56771331 0.02257231 0.43420742]\n",
      " [0.34985981 0.67955607 0.60662594 0.79535341 0.02214451]]\n"
     ]
    }
   ],
   "source": [
    "print(np.sin(arr))"
   ]
  },
  {
   "cell_type": "code",
   "execution_count": 11,
   "metadata": {},
   "outputs": [
    {
     "name": "stdout",
     "output_type": "stream",
     "text": [
      "[[0.72273845 0.99810969 0.83698652 0.67548499 0.93968382]\n",
      " [0.69760131 0.68548074 0.94518587 0.5836748  0.96395823]\n",
      " [0.61118293 0.93487046 0.88774411 0.99387158 0.99004471]\n",
      " [0.91487334 0.9963647  0.82322633 0.99974521 0.90081292]\n",
      " [0.93680207 0.73362358 0.7949874  0.60614599 0.99975478]]\n"
     ]
    }
   ],
   "source": [
    "print(np.cos(arr))"
   ]
  },
  {
   "cell_type": "markdown",
   "metadata": {},
   "source": [
    "### sum along a specified axis"
   ]
  },
  {
   "cell_type": "code",
   "execution_count": 15,
   "metadata": {},
   "outputs": [
    {
     "name": "stdout",
     "output_type": "stream",
     "text": [
      "[2.1141358  1.58392433 3.50772269 3.72378941 1.89492461]\n"
     ]
    }
   ],
   "source": [
    "# sum along the row\n",
    "print(np.sum(arr, axis=0))    "
   ]
  },
  {
   "cell_type": "code",
   "execution_count": 16,
   "metadata": {},
   "outputs": [
    {
     "name": "stdout",
     "output_type": "stream",
     "text": [
      "[2.32632986 2.33181889 2.80364001 2.62685872 2.73584936]\n"
     ]
    }
   ],
   "source": [
    "# sum along the column\n",
    "print(np.sum(arr, axis=1))    "
   ]
  },
  {
   "cell_type": "markdown",
   "metadata": {},
   "source": [
    "### compute the min and max along a specified axis"
   ]
  },
  {
   "cell_type": "code",
   "execution_count": 14,
   "metadata": {},
   "outputs": [
    {
     "name": "stdout",
     "output_type": "stream",
     "text": [
      "[0.35742146 0.06149651 0.33263298 0.02257422 0.02214632]\n"
     ]
    }
   ],
   "source": [
    "# calculate min along the row\n",
    "print(np.min(arr, axis=0))"
   ]
  },
  {
   "cell_type": "code",
   "execution_count": 15,
   "metadata": {},
   "outputs": [
    {
     "name": "stdout",
     "output_type": "stream",
     "text": [
      "[0.8291741  0.94754927 0.91324204 0.60372547 0.9195904 ]\n"
     ]
    }
   ],
   "source": [
    "# calculate max along the column\n",
    "print(np.max(arr, axis=1))    "
   ]
  },
  {
   "cell_type": "code",
   "execution_count": 16,
   "metadata": {},
   "outputs": [
    {
     "name": "stdout",
     "output_type": "stream",
     "text": [
      "0.9475492686719678\n",
      "0.022146316110606912\n"
     ]
    }
   ],
   "source": [
    "# if axis not specified, calculate the max/min value of all elements\n",
    "print(np.max(arr))\n",
    "print(np.min(arr))"
   ]
  },
  {
   "cell_type": "markdown",
   "metadata": {},
   "source": [
    "### compute the indices of the min and max along a specified axis"
   ]
  },
  {
   "cell_type": "code",
   "execution_count": 17,
   "metadata": {},
   "outputs": [
    {
     "name": "stdout",
     "output_type": "stream",
     "text": [
      "[4 0 1 3 4]\n",
      "[2 1 4 1 3]\n"
     ]
    }
   ],
   "source": [
    "# along the row\n",
    "print(np.argmin(arr, axis=0))\n",
    "print(np.argmax(arr, axis=0))"
   ]
  },
  {
   "cell_type": "code",
   "execution_count": 18,
   "metadata": {},
   "outputs": [
    {
     "name": "stdout",
     "output_type": "stream",
     "text": [
      "[1 4 3 3 4]\n",
      "[3 3 0 2 3]\n"
     ]
    }
   ],
   "source": [
    "# along the column\n",
    "print(np.argmin(arr, axis=1))\n",
    "print(np.argmax(arr, axis=1))"
   ]
  },
  {
   "cell_type": "code",
   "execution_count": 19,
   "metadata": {},
   "outputs": [
    {
     "name": "stdout",
     "output_type": "stream",
     "text": [
      "24\n",
      "8\n"
     ]
    }
   ],
   "source": [
    "# if axis not specified, return the index of the flattened array\n",
    "print(np.argmin(arr))\n",
    "print(np.argmax(arr))"
   ]
  },
  {
   "cell_type": "markdown",
   "metadata": {},
   "source": [
    "### compute element-wise min and max of two arrays"
   ]
  },
  {
   "cell_type": "code",
   "execution_count": 20,
   "metadata": {},
   "outputs": [
    {
     "name": "stdout",
     "output_type": "stream",
     "text": [
      "[1 4 5 8 9]\n",
      "[0 3 3 7 7]\n"
     ]
    }
   ],
   "source": [
    "arr1 = np.array([1, 3, 5, 7, 9])\n",
    "arr2 = np.array([0, 4, 3, 8, 7])\n",
    "print(np.maximum(arr1, arr2))\n",
    "print(np.minimum(arr1, arr2))"
   ]
  },
  {
   "cell_type": "markdown",
   "metadata": {},
   "source": [
    "### split fractional and integral parts of a floating-point array"
   ]
  },
  {
   "cell_type": "code",
   "execution_count": 21,
   "metadata": {},
   "outputs": [
    {
     "name": "stdout",
     "output_type": "stream",
     "text": [
      "fractional:  [0.21779326 0.58882555 0.32195097 0.45853207 0.50994103 0.42358094\n",
      " 0.32348379 0.31232886 0.16890174 0.49021443]\n",
      "integral:  [0. 0. 5. 5. 5. 1. 2. 1. 6. 8.]\n"
     ]
    }
   ],
   "source": [
    "arr1 = np.random.rand(10) * 10\n",
    "re, intg = np.modf(arr1)\n",
    "print('fractional: ', re)\n",
    "print('integral: ', intg)"
   ]
  },
  {
   "cell_type": "markdown",
   "metadata": {},
   "source": [
    "### compute the mean"
   ]
  },
  {
   "cell_type": "code",
   "execution_count": 22,
   "metadata": {},
   "outputs": [
    {
     "name": "stdout",
     "output_type": "stream",
     "text": [
      "0.4810638752799312\n"
     ]
    }
   ],
   "source": [
    "# compute the overall mean\n",
    "print(np.mean(arr))"
   ]
  },
  {
   "cell_type": "code",
   "execution_count": 23,
   "metadata": {},
   "outputs": [
    {
     "name": "stdout",
     "output_type": "stream",
     "text": [
      "[0.64961155 0.41447648 0.52911728 0.56593105 0.24618302]\n"
     ]
    }
   ],
   "source": [
    "# compute the mean along the row\n",
    "print(np.mean(arr, axis=0))   "
   ]
  },
  {
   "cell_type": "code",
   "execution_count": 24,
   "metadata": {},
   "outputs": [
    {
     "name": "stdout",
     "output_type": "stream",
     "text": [
      "[0.51636908 0.63275275 0.40130178 0.31527076 0.53962501]\n"
     ]
    }
   ],
   "source": [
    "# compute the mean along the column\n",
    "print(np.mean(arr, axis=1)) "
   ]
  },
  {
   "cell_type": "markdown",
   "metadata": {},
   "source": [
    "### compute the median"
   ]
  },
  {
   "cell_type": "code",
   "execution_count": 25,
   "metadata": {},
   "outputs": [
    {
     "name": "stdout",
     "output_type": "stream",
     "text": [
      "0.4491582392434029\n"
     ]
    }
   ],
   "source": [
    "# compute the overall median\n",
    "print(np.median(arr))"
   ]
  },
  {
   "cell_type": "code",
   "execution_count": 26,
   "metadata": {},
   "outputs": [
    {
     "name": "stdout",
     "output_type": "stream",
     "text": [
      "[0.76303985 0.36290234 0.57904337 0.8291741  0.26929677]\n"
     ]
    }
   ],
   "source": [
    "# compute the median along the row\n",
    "print(np.median(arr, axis=0)) "
   ]
  },
  {
   "cell_type": "code",
   "execution_count": 27,
   "metadata": {},
   "outputs": [
    {
     "name": "stdout",
     "output_type": "stream",
     "text": [
      "[0.57904337 0.79875216 0.36290234 0.41560224 0.65180952]\n"
     ]
    }
   ],
   "source": [
    "# compute the median along the column\n",
    "print(np.median(arr, axis=1))"
   ]
  },
  {
   "cell_type": "markdown",
   "metadata": {},
   "source": [
    "### compute the percentile"
   ]
  },
  {
   "cell_type": "code",
   "execution_count": 28,
   "metadata": {},
   "outputs": [
    {
     "name": "stdout",
     "output_type": "stream",
     "text": [
      "[0.02821037 0.5914621  0.89273939]\n"
     ]
    }
   ],
   "source": [
    "arr1 = np.random.rand(100)\n",
    "# compute 5, 65, and 95 percentiles of the array\n",
    "print(np.percentile(arr1, [5, 65, 95]))"
   ]
  },
  {
   "cell_type": "markdown",
   "metadata": {},
   "source": [
    "### compute the standard deviation & variance"
   ]
  },
  {
   "cell_type": "code",
   "execution_count": 29,
   "metadata": {},
   "outputs": [
    {
     "name": "stdout",
     "output_type": "stream",
     "text": [
      "0.3006485476445816\n"
     ]
    }
   ],
   "source": [
    "# compute the overall standard deviation\n",
    "print(np.std(arr))"
   ]
  },
  {
   "cell_type": "code",
   "execution_count": 30,
   "metadata": {},
   "outputs": [
    {
     "name": "stdout",
     "output_type": "stream",
     "text": [
      "[0.22124437 0.3184772  0.11339598 0.41046681 0.15068681]\n"
     ]
    }
   ],
   "source": [
    "# compute the standard deviation along the row\n",
    "print(np.std(arr, axis=0))"
   ]
  },
  {
   "cell_type": "code",
   "execution_count": 31,
   "metadata": {},
   "outputs": [
    {
     "name": "stdout",
     "output_type": "stream",
     "text": [
      "[0.28196182 0.27648987 0.29036161 0.22349905 0.31654733]\n"
     ]
    }
   ],
   "source": [
    "# compute the standard deviation along the column\n",
    "print(np.std(arr, axis=1))"
   ]
  },
  {
   "cell_type": "code",
   "execution_count": 32,
   "metadata": {},
   "outputs": [
    {
     "name": "stdout",
     "output_type": "stream",
     "text": [
      "0.09038954920079624\n"
     ]
    }
   ],
   "source": [
    "# compute the overall variance\n",
    "print(np.var(arr))"
   ]
  },
  {
   "cell_type": "code",
   "execution_count": 33,
   "metadata": {},
   "outputs": [
    {
     "name": "stdout",
     "output_type": "stream",
     "text": [
      "[0.04894907 0.10142773 0.01285865 0.168483   0.02270651]\n"
     ]
    }
   ],
   "source": [
    "# compute the variance along the row\n",
    "print(np.var(arr, axis=0))"
   ]
  },
  {
   "cell_type": "code",
   "execution_count": 34,
   "metadata": {},
   "outputs": [
    {
     "name": "stdout",
     "output_type": "stream",
     "text": [
      "[0.07950247 0.07644665 0.08430987 0.04995182 0.10020221]\n"
     ]
    }
   ],
   "source": [
    "# compute the variance along the column\n",
    "print(np.var(arr, axis=1))"
   ]
  },
  {
   "cell_type": "markdown",
   "metadata": {},
   "source": [
    "### compute the covariance & correlation"
   ]
  },
  {
   "cell_type": "code",
   "execution_count": 35,
   "metadata": {},
   "outputs": [],
   "source": [
    "arr = np.random.rand(5,8)"
   ]
  },
  {
   "cell_type": "code",
   "execution_count": 36,
   "metadata": {},
   "outputs": [
    {
     "name": "stdout",
     "output_type": "stream",
     "text": [
      "[[ 0.0730498   0.04997737 -0.00836842  0.00865103 -0.03076003]\n",
      " [ 0.04997737  0.06921278 -0.02750488  0.0401044  -0.04116094]\n",
      " [-0.00836842 -0.02750488  0.05298148 -0.04966884  0.03063382]\n",
      " [ 0.00865103  0.0401044  -0.04966884  0.06762098 -0.02100972]\n",
      " [-0.03076003 -0.04116094  0.03063382 -0.02100972  0.07502637]]\n"
     ]
    }
   ],
   "source": [
    "print(np.cov(arr))"
   ]
  },
  {
   "cell_type": "code",
   "execution_count": 37,
   "metadata": {},
   "outputs": [
    {
     "name": "stdout",
     "output_type": "stream",
     "text": [
      "[[1.         0.11028402]\n",
      " [0.11028402 1.        ]]\n"
     ]
    }
   ],
   "source": [
    "print(np.corrcoef(arr[:,0], arr[:,1]))"
   ]
  },
  {
   "cell_type": "markdown",
   "metadata": {},
   "source": [
    "### compute cumulative sum & product"
   ]
  },
  {
   "cell_type": "code",
   "execution_count": 38,
   "metadata": {},
   "outputs": [
    {
     "name": "stdout",
     "output_type": "stream",
     "text": [
      "[[0.22630778 0.767801   0.58288104 0.91212964 0.16866086 0.71225777\n",
      "  0.75992693 0.43036535]\n",
      " [0.59072776 1.41363555 1.26836278 1.39281883 0.17541256 1.09197627\n",
      "  1.56096648 0.6397989 ]\n",
      " [0.86915997 1.77345229 1.64305337 2.01662839 0.70369834 1.28990428\n",
      "  1.86675912 1.54481741]\n",
      " [1.73953799 2.39132679 2.30715387 2.2988209  0.89970976 2.05231818\n",
      "  2.61580011 1.82762798]\n",
      " [2.73272009 3.02599488 2.8500615  3.11255427 1.53154629 2.58196071\n",
      "  2.74551764 2.76644411]]\n"
     ]
    }
   ],
   "source": [
    "# calculate the cumulative sums along the row\n",
    "print(np.cumsum(arr, axis=0))    "
   ]
  },
  {
   "cell_type": "code",
   "execution_count": 39,
   "metadata": {},
   "outputs": [
    {
     "name": "stdout",
     "output_type": "stream",
     "text": [
      "[[0.22630778 0.99410878 1.57698982 2.48911946 2.65778031 3.37003808\n",
      "  4.12996501 4.56033036]\n",
      " [0.36441999 1.01025454 1.69573627 2.17642546 2.18317717 2.56289567\n",
      "  3.36393522 3.57336877]\n",
      " [0.2784322  0.63824894 1.01293953 1.6367491  2.16503487 2.36296289\n",
      "  2.66875553 3.57377405]\n",
      " [0.87037803 1.48825253 2.15235303 2.43454554 2.63055696 3.39297085\n",
      "  4.14201184 4.42482241]\n",
      " [0.9931821  1.62785019 2.17075782 2.98449119 3.61632772 4.14597025\n",
      "  4.27568777 5.2145039 ]]\n"
     ]
    }
   ],
   "source": [
    "# calculate the cumulative sums along the column\n",
    "print(np.cumsum(arr, axis=1))    "
   ]
  },
  {
   "cell_type": "code",
   "execution_count": 40,
   "metadata": {},
   "outputs": [
    {
     "name": "stdout",
     "output_type": "stream",
     "text": [
      "[[2.26307776e-01 7.67801004e-01 5.82881038e-01 9.12129639e-01\n",
      "  1.68660858e-01 7.12257767e-01 7.59926931e-01 4.30365348e-01]\n",
      " [8.24710772e-02 4.95872414e-01 3.99554306e-01 4.38450855e-01\n",
      "  1.13874845e-03 2.70457451e-01 6.08731528e-01 9.01329430e-02]\n",
      " [2.29626035e-02 1.78423193e-01 1.49709241e-01 2.73509837e-01\n",
      "  6.01584614e-04 5.35311066e-02 1.86145622e-01 8.15719823e-02]\n",
      " [1.99861456e-02 1.10243142e-01 9.94219814e-02 7.71824276e-02\n",
      "  1.17917453e-04 4.08128596e-02 1.39430701e-01 2.30694183e-02]\n",
      " [1.98498821e-02 6.99678041e-02 5.39769526e-02 6.28059168e-02\n",
      "  7.45045544e-05 2.16162260e-02 1.80866051e-02 2.16579420e-02]]\n"
     ]
    }
   ],
   "source": [
    "# calculate the cumulative product along the row\n",
    "print(np.cumprod(arr, axis=0))   "
   ]
  },
  {
   "cell_type": "code",
   "execution_count": 41,
   "metadata": {},
   "outputs": [
    {
     "name": "stdout",
     "output_type": "stream",
     "text": [
      "[[2.26307776e-01 1.73759338e-01 1.01281023e-01 9.23814230e-02\n",
      "  1.55811300e-02 1.10977809e-02 8.43350257e-03 3.62948727e-03]\n",
      " [3.64419989e-01 2.35355019e-01 1.61331567e-01 7.75503399e-02\n",
      "  5.23597062e-04 1.98819491e-04 1.59262276e-04 3.33548640e-05]\n",
      " [2.78432201e-01 1.00184566e-01 3.75382145e-02 2.34166972e-02\n",
      "  1.23707081e-02 2.44850971e-03 7.48736253e-04 6.77620172e-04]\n",
      " [8.70378028e-01 5.37784391e-01 3.57142882e-01 1.00783047e-01\n",
      "  1.97546278e-02 1.50612027e-02 1.12814582e-02 3.19051555e-03]\n",
      " [9.93182100e-01 6.30340985e-01 3.42216932e-01 2.78473337e-01\n",
      "  1.75949628e-01 9.31904051e-02 1.20884285e-02 1.13488117e-02]]\n"
     ]
    }
   ],
   "source": [
    "# calculate the cumulative product along the column\n",
    "print(np.cumprod(arr, axis=1))  "
   ]
  },
  {
   "cell_type": "markdown",
   "metadata": {},
   "source": [
    "### element-wise comparison"
   ]
  },
  {
   "cell_type": "code",
   "execution_count": 42,
   "metadata": {},
   "outputs": [],
   "source": [
    "arr1 = np.array([1,2,3,4,5])\n",
    "arr2 = np.array([5,4,3,2,1])"
   ]
  },
  {
   "cell_type": "code",
   "execution_count": 43,
   "metadata": {},
   "outputs": [
    {
     "name": "stdout",
     "output_type": "stream",
     "text": [
      "[False False  True False False]\n",
      "[ True  True False False False]\n"
     ]
    }
   ],
   "source": [
    "# return an array of bools\n",
    "print(arr1 == arr2)    \n",
    "print(arr1 < 3)"
   ]
  }
 ],
 "metadata": {
  "kernelspec": {
   "display_name": "Python 3",
   "language": "python",
   "name": "python3"
  },
  "language_info": {
   "codemirror_mode": {
    "name": "ipython",
    "version": 3
   },
   "file_extension": ".py",
   "mimetype": "text/x-python",
   "name": "python",
   "nbconvert_exporter": "python",
   "pygments_lexer": "ipython3",
   "version": "3.10.9"
  }
 },
 "nbformat": 4,
 "nbformat_minor": 2
}
